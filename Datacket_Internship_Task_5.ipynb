{
  "cells": [
    {
      "cell_type": "markdown",
      "source": [
        "**Task 5**-Advanced Stock Market Prediction\n"
      ],
      "metadata": {
        "id": "RQTgw5_-cUuS"
      },
      "id": "RQTgw5_-cUuS"
    },
    {
      "cell_type": "code",
      "execution_count": 3,
      "id": "85437d35",
      "metadata": {
        "id": "85437d35"
      },
      "outputs": [],
      "source": [
        "from warnings import filterwarnings\n",
        "filterwarnings('ignore')\n",
        "# Some Libraries Imported\n",
        "import numpy as np\n",
        "import pandas as pd\n",
        "import matplotlib.pyplot as plt\n",
        "%matplotlib inline\n",
        "import seaborn as sns\n",
        "from datetime import datetime\n",
        "from datetime import datetime"
      ]
    },
    {
      "cell_type": "code",
      "execution_count": 4,
      "id": "8fffc8a5",
      "metadata": {
        "colab": {
          "base_uri": "https://localhost:8080/",
          "height": 424
        },
        "id": "8fffc8a5",
        "outputId": "2dbf241d-b8c9-4d82-93dc-f9e320dc468f"
      },
      "outputs": [
        {
          "output_type": "execute_result",
          "data": {
            "text/plain": [
              "           Date  Open  High   Low  Close  Adj Close  Volume\n",
              "0    2021-07-19  0.17  0.17  0.17   0.17       0.17   12100\n",
              "1    2021-07-20  0.17  0.17  0.17   0.17       0.17   43800\n",
              "2    2021-07-21  0.17  0.20  0.17   0.20       0.20   64000\n",
              "3    2021-07-22  0.20  0.20  0.19   0.19       0.19   90000\n",
              "4    2021-07-23  0.19  0.19  0.18   0.19       0.19   91600\n",
              "..          ...   ...   ...   ...    ...        ...     ...\n",
              "246  2022-07-11  0.20  0.21  0.20   0.20       0.20   36200\n",
              "247  2022-07-12  0.21  0.22  0.19   0.19       0.19   50500\n",
              "248  2022-07-13  0.19  0.19  0.19   0.19       0.19   24800\n",
              "249  2022-07-14  0.19  0.19  0.19   0.19       0.19     100\n",
              "250  2022-07-15  0.19  0.19  0.18   0.19       0.19   35800\n",
              "\n",
              "[251 rows x 7 columns]"
            ],
            "text/html": [
              "\n",
              "  <div id=\"df-37c075e2-f69f-4cda-a728-a82028402296\">\n",
              "    <div class=\"colab-df-container\">\n",
              "      <div>\n",
              "<style scoped>\n",
              "    .dataframe tbody tr th:only-of-type {\n",
              "        vertical-align: middle;\n",
              "    }\n",
              "\n",
              "    .dataframe tbody tr th {\n",
              "        vertical-align: top;\n",
              "    }\n",
              "\n",
              "    .dataframe thead th {\n",
              "        text-align: right;\n",
              "    }\n",
              "</style>\n",
              "<table border=\"1\" class=\"dataframe\">\n",
              "  <thead>\n",
              "    <tr style=\"text-align: right;\">\n",
              "      <th></th>\n",
              "      <th>Date</th>\n",
              "      <th>Open</th>\n",
              "      <th>High</th>\n",
              "      <th>Low</th>\n",
              "      <th>Close</th>\n",
              "      <th>Adj Close</th>\n",
              "      <th>Volume</th>\n",
              "    </tr>\n",
              "  </thead>\n",
              "  <tbody>\n",
              "    <tr>\n",
              "      <th>0</th>\n",
              "      <td>2021-07-19</td>\n",
              "      <td>0.17</td>\n",
              "      <td>0.17</td>\n",
              "      <td>0.17</td>\n",
              "      <td>0.17</td>\n",
              "      <td>0.17</td>\n",
              "      <td>12100</td>\n",
              "    </tr>\n",
              "    <tr>\n",
              "      <th>1</th>\n",
              "      <td>2021-07-20</td>\n",
              "      <td>0.17</td>\n",
              "      <td>0.17</td>\n",
              "      <td>0.17</td>\n",
              "      <td>0.17</td>\n",
              "      <td>0.17</td>\n",
              "      <td>43800</td>\n",
              "    </tr>\n",
              "    <tr>\n",
              "      <th>2</th>\n",
              "      <td>2021-07-21</td>\n",
              "      <td>0.17</td>\n",
              "      <td>0.20</td>\n",
              "      <td>0.17</td>\n",
              "      <td>0.20</td>\n",
              "      <td>0.20</td>\n",
              "      <td>64000</td>\n",
              "    </tr>\n",
              "    <tr>\n",
              "      <th>3</th>\n",
              "      <td>2021-07-22</td>\n",
              "      <td>0.20</td>\n",
              "      <td>0.20</td>\n",
              "      <td>0.19</td>\n",
              "      <td>0.19</td>\n",
              "      <td>0.19</td>\n",
              "      <td>90000</td>\n",
              "    </tr>\n",
              "    <tr>\n",
              "      <th>4</th>\n",
              "      <td>2021-07-23</td>\n",
              "      <td>0.19</td>\n",
              "      <td>0.19</td>\n",
              "      <td>0.18</td>\n",
              "      <td>0.19</td>\n",
              "      <td>0.19</td>\n",
              "      <td>91600</td>\n",
              "    </tr>\n",
              "    <tr>\n",
              "      <th>...</th>\n",
              "      <td>...</td>\n",
              "      <td>...</td>\n",
              "      <td>...</td>\n",
              "      <td>...</td>\n",
              "      <td>...</td>\n",
              "      <td>...</td>\n",
              "      <td>...</td>\n",
              "    </tr>\n",
              "    <tr>\n",
              "      <th>246</th>\n",
              "      <td>2022-07-11</td>\n",
              "      <td>0.20</td>\n",
              "      <td>0.21</td>\n",
              "      <td>0.20</td>\n",
              "      <td>0.20</td>\n",
              "      <td>0.20</td>\n",
              "      <td>36200</td>\n",
              "    </tr>\n",
              "    <tr>\n",
              "      <th>247</th>\n",
              "      <td>2022-07-12</td>\n",
              "      <td>0.21</td>\n",
              "      <td>0.22</td>\n",
              "      <td>0.19</td>\n",
              "      <td>0.19</td>\n",
              "      <td>0.19</td>\n",
              "      <td>50500</td>\n",
              "    </tr>\n",
              "    <tr>\n",
              "      <th>248</th>\n",
              "      <td>2022-07-13</td>\n",
              "      <td>0.19</td>\n",
              "      <td>0.19</td>\n",
              "      <td>0.19</td>\n",
              "      <td>0.19</td>\n",
              "      <td>0.19</td>\n",
              "      <td>24800</td>\n",
              "    </tr>\n",
              "    <tr>\n",
              "      <th>249</th>\n",
              "      <td>2022-07-14</td>\n",
              "      <td>0.19</td>\n",
              "      <td>0.19</td>\n",
              "      <td>0.19</td>\n",
              "      <td>0.19</td>\n",
              "      <td>0.19</td>\n",
              "      <td>100</td>\n",
              "    </tr>\n",
              "    <tr>\n",
              "      <th>250</th>\n",
              "      <td>2022-07-15</td>\n",
              "      <td>0.19</td>\n",
              "      <td>0.19</td>\n",
              "      <td>0.18</td>\n",
              "      <td>0.19</td>\n",
              "      <td>0.19</td>\n",
              "      <td>35800</td>\n",
              "    </tr>\n",
              "  </tbody>\n",
              "</table>\n",
              "<p>251 rows × 7 columns</p>\n",
              "</div>\n",
              "      <button class=\"colab-df-convert\" onclick=\"convertToInteractive('df-37c075e2-f69f-4cda-a728-a82028402296')\"\n",
              "              title=\"Convert this dataframe to an interactive table.\"\n",
              "              style=\"display:none;\">\n",
              "        \n",
              "  <svg xmlns=\"http://www.w3.org/2000/svg\" height=\"24px\"viewBox=\"0 0 24 24\"\n",
              "       width=\"24px\">\n",
              "    <path d=\"M0 0h24v24H0V0z\" fill=\"none\"/>\n",
              "    <path d=\"M18.56 5.44l.94 2.06.94-2.06 2.06-.94-2.06-.94-.94-2.06-.94 2.06-2.06.94zm-11 1L8.5 8.5l.94-2.06 2.06-.94-2.06-.94L8.5 2.5l-.94 2.06-2.06.94zm10 10l.94 2.06.94-2.06 2.06-.94-2.06-.94-.94-2.06-.94 2.06-2.06.94z\"/><path d=\"M17.41 7.96l-1.37-1.37c-.4-.4-.92-.59-1.43-.59-.52 0-1.04.2-1.43.59L10.3 9.45l-7.72 7.72c-.78.78-.78 2.05 0 2.83L4 21.41c.39.39.9.59 1.41.59.51 0 1.02-.2 1.41-.59l7.78-7.78 2.81-2.81c.8-.78.8-2.07 0-2.86zM5.41 20L4 18.59l7.72-7.72 1.47 1.35L5.41 20z\"/>\n",
              "  </svg>\n",
              "      </button>\n",
              "      \n",
              "  <style>\n",
              "    .colab-df-container {\n",
              "      display:flex;\n",
              "      flex-wrap:wrap;\n",
              "      gap: 12px;\n",
              "    }\n",
              "\n",
              "    .colab-df-convert {\n",
              "      background-color: #E8F0FE;\n",
              "      border: none;\n",
              "      border-radius: 50%;\n",
              "      cursor: pointer;\n",
              "      display: none;\n",
              "      fill: #1967D2;\n",
              "      height: 32px;\n",
              "      padding: 0 0 0 0;\n",
              "      width: 32px;\n",
              "    }\n",
              "\n",
              "    .colab-df-convert:hover {\n",
              "      background-color: #E2EBFA;\n",
              "      box-shadow: 0px 1px 2px rgba(60, 64, 67, 0.3), 0px 1px 3px 1px rgba(60, 64, 67, 0.15);\n",
              "      fill: #174EA6;\n",
              "    }\n",
              "\n",
              "    [theme=dark] .colab-df-convert {\n",
              "      background-color: #3B4455;\n",
              "      fill: #D2E3FC;\n",
              "    }\n",
              "\n",
              "    [theme=dark] .colab-df-convert:hover {\n",
              "      background-color: #434B5C;\n",
              "      box-shadow: 0px 1px 3px 1px rgba(0, 0, 0, 0.15);\n",
              "      filter: drop-shadow(0px 1px 2px rgba(0, 0, 0, 0.3));\n",
              "      fill: #FFFFFF;\n",
              "    }\n",
              "  </style>\n",
              "\n",
              "      <script>\n",
              "        const buttonEl =\n",
              "          document.querySelector('#df-37c075e2-f69f-4cda-a728-a82028402296 button.colab-df-convert');\n",
              "        buttonEl.style.display =\n",
              "          google.colab.kernel.accessAllowed ? 'block' : 'none';\n",
              "\n",
              "        async function convertToInteractive(key) {\n",
              "          const element = document.querySelector('#df-37c075e2-f69f-4cda-a728-a82028402296');\n",
              "          const dataTable =\n",
              "            await google.colab.kernel.invokeFunction('convertToInteractive',\n",
              "                                                     [key], {});\n",
              "          if (!dataTable) return;\n",
              "\n",
              "          const docLinkHtml = 'Like what you see? Visit the ' +\n",
              "            '<a target=\"_blank\" href=https://colab.research.google.com/notebooks/data_table.ipynb>data table notebook</a>'\n",
              "            + ' to learn more about interactive tables.';\n",
              "          element.innerHTML = '';\n",
              "          dataTable['output_type'] = 'display_data';\n",
              "          await google.colab.output.renderOutput(dataTable, element);\n",
              "          const docLink = document.createElement('div');\n",
              "          docLink.innerHTML = docLinkHtml;\n",
              "          element.appendChild(docLink);\n",
              "        }\n",
              "      </script>\n",
              "    </div>\n",
              "  </div>\n",
              "  "
            ]
          },
          "metadata": {},
          "execution_count": 4
        }
      ],
      "source": [
        "data=pd.read_csv(\"QMCI.csv\")\n",
        "data"
      ]
    },
    {
      "cell_type": "code",
      "execution_count": 5,
      "id": "ca3c010d",
      "metadata": {
        "colab": {
          "base_uri": "https://localhost:8080/",
          "height": 206
        },
        "id": "ca3c010d",
        "outputId": "38463bb1-6b6f-47e7-ceaf-63f90fd2a15a"
      },
      "outputs": [
        {
          "output_type": "execute_result",
          "data": {
            "text/plain": [
              "         Date  Open  High   Low  Close  Adj Close  Volume\n",
              "0  2021-07-19  0.17  0.17  0.17   0.17       0.17   12100\n",
              "1  2021-07-20  0.17  0.17  0.17   0.17       0.17   43800\n",
              "2  2021-07-21  0.17  0.20  0.17   0.20       0.20   64000\n",
              "3  2021-07-22  0.20  0.20  0.19   0.19       0.19   90000\n",
              "4  2021-07-23  0.19  0.19  0.18   0.19       0.19   91600"
            ],
            "text/html": [
              "\n",
              "  <div id=\"df-6594a876-e7cc-4050-bce4-642b72b589ed\">\n",
              "    <div class=\"colab-df-container\">\n",
              "      <div>\n",
              "<style scoped>\n",
              "    .dataframe tbody tr th:only-of-type {\n",
              "        vertical-align: middle;\n",
              "    }\n",
              "\n",
              "    .dataframe tbody tr th {\n",
              "        vertical-align: top;\n",
              "    }\n",
              "\n",
              "    .dataframe thead th {\n",
              "        text-align: right;\n",
              "    }\n",
              "</style>\n",
              "<table border=\"1\" class=\"dataframe\">\n",
              "  <thead>\n",
              "    <tr style=\"text-align: right;\">\n",
              "      <th></th>\n",
              "      <th>Date</th>\n",
              "      <th>Open</th>\n",
              "      <th>High</th>\n",
              "      <th>Low</th>\n",
              "      <th>Close</th>\n",
              "      <th>Adj Close</th>\n",
              "      <th>Volume</th>\n",
              "    </tr>\n",
              "  </thead>\n",
              "  <tbody>\n",
              "    <tr>\n",
              "      <th>0</th>\n",
              "      <td>2021-07-19</td>\n",
              "      <td>0.17</td>\n",
              "      <td>0.17</td>\n",
              "      <td>0.17</td>\n",
              "      <td>0.17</td>\n",
              "      <td>0.17</td>\n",
              "      <td>12100</td>\n",
              "    </tr>\n",
              "    <tr>\n",
              "      <th>1</th>\n",
              "      <td>2021-07-20</td>\n",
              "      <td>0.17</td>\n",
              "      <td>0.17</td>\n",
              "      <td>0.17</td>\n",
              "      <td>0.17</td>\n",
              "      <td>0.17</td>\n",
              "      <td>43800</td>\n",
              "    </tr>\n",
              "    <tr>\n",
              "      <th>2</th>\n",
              "      <td>2021-07-21</td>\n",
              "      <td>0.17</td>\n",
              "      <td>0.20</td>\n",
              "      <td>0.17</td>\n",
              "      <td>0.20</td>\n",
              "      <td>0.20</td>\n",
              "      <td>64000</td>\n",
              "    </tr>\n",
              "    <tr>\n",
              "      <th>3</th>\n",
              "      <td>2021-07-22</td>\n",
              "      <td>0.20</td>\n",
              "      <td>0.20</td>\n",
              "      <td>0.19</td>\n",
              "      <td>0.19</td>\n",
              "      <td>0.19</td>\n",
              "      <td>90000</td>\n",
              "    </tr>\n",
              "    <tr>\n",
              "      <th>4</th>\n",
              "      <td>2021-07-23</td>\n",
              "      <td>0.19</td>\n",
              "      <td>0.19</td>\n",
              "      <td>0.18</td>\n",
              "      <td>0.19</td>\n",
              "      <td>0.19</td>\n",
              "      <td>91600</td>\n",
              "    </tr>\n",
              "  </tbody>\n",
              "</table>\n",
              "</div>\n",
              "      <button class=\"colab-df-convert\" onclick=\"convertToInteractive('df-6594a876-e7cc-4050-bce4-642b72b589ed')\"\n",
              "              title=\"Convert this dataframe to an interactive table.\"\n",
              "              style=\"display:none;\">\n",
              "        \n",
              "  <svg xmlns=\"http://www.w3.org/2000/svg\" height=\"24px\"viewBox=\"0 0 24 24\"\n",
              "       width=\"24px\">\n",
              "    <path d=\"M0 0h24v24H0V0z\" fill=\"none\"/>\n",
              "    <path d=\"M18.56 5.44l.94 2.06.94-2.06 2.06-.94-2.06-.94-.94-2.06-.94 2.06-2.06.94zm-11 1L8.5 8.5l.94-2.06 2.06-.94-2.06-.94L8.5 2.5l-.94 2.06-2.06.94zm10 10l.94 2.06.94-2.06 2.06-.94-2.06-.94-.94-2.06-.94 2.06-2.06.94z\"/><path d=\"M17.41 7.96l-1.37-1.37c-.4-.4-.92-.59-1.43-.59-.52 0-1.04.2-1.43.59L10.3 9.45l-7.72 7.72c-.78.78-.78 2.05 0 2.83L4 21.41c.39.39.9.59 1.41.59.51 0 1.02-.2 1.41-.59l7.78-7.78 2.81-2.81c.8-.78.8-2.07 0-2.86zM5.41 20L4 18.59l7.72-7.72 1.47 1.35L5.41 20z\"/>\n",
              "  </svg>\n",
              "      </button>\n",
              "      \n",
              "  <style>\n",
              "    .colab-df-container {\n",
              "      display:flex;\n",
              "      flex-wrap:wrap;\n",
              "      gap: 12px;\n",
              "    }\n",
              "\n",
              "    .colab-df-convert {\n",
              "      background-color: #E8F0FE;\n",
              "      border: none;\n",
              "      border-radius: 50%;\n",
              "      cursor: pointer;\n",
              "      display: none;\n",
              "      fill: #1967D2;\n",
              "      height: 32px;\n",
              "      padding: 0 0 0 0;\n",
              "      width: 32px;\n",
              "    }\n",
              "\n",
              "    .colab-df-convert:hover {\n",
              "      background-color: #E2EBFA;\n",
              "      box-shadow: 0px 1px 2px rgba(60, 64, 67, 0.3), 0px 1px 3px 1px rgba(60, 64, 67, 0.15);\n",
              "      fill: #174EA6;\n",
              "    }\n",
              "\n",
              "    [theme=dark] .colab-df-convert {\n",
              "      background-color: #3B4455;\n",
              "      fill: #D2E3FC;\n",
              "    }\n",
              "\n",
              "    [theme=dark] .colab-df-convert:hover {\n",
              "      background-color: #434B5C;\n",
              "      box-shadow: 0px 1px 3px 1px rgba(0, 0, 0, 0.15);\n",
              "      filter: drop-shadow(0px 1px 2px rgba(0, 0, 0, 0.3));\n",
              "      fill: #FFFFFF;\n",
              "    }\n",
              "  </style>\n",
              "\n",
              "      <script>\n",
              "        const buttonEl =\n",
              "          document.querySelector('#df-6594a876-e7cc-4050-bce4-642b72b589ed button.colab-df-convert');\n",
              "        buttonEl.style.display =\n",
              "          google.colab.kernel.accessAllowed ? 'block' : 'none';\n",
              "\n",
              "        async function convertToInteractive(key) {\n",
              "          const element = document.querySelector('#df-6594a876-e7cc-4050-bce4-642b72b589ed');\n",
              "          const dataTable =\n",
              "            await google.colab.kernel.invokeFunction('convertToInteractive',\n",
              "                                                     [key], {});\n",
              "          if (!dataTable) return;\n",
              "\n",
              "          const docLinkHtml = 'Like what you see? Visit the ' +\n",
              "            '<a target=\"_blank\" href=https://colab.research.google.com/notebooks/data_table.ipynb>data table notebook</a>'\n",
              "            + ' to learn more about interactive tables.';\n",
              "          element.innerHTML = '';\n",
              "          dataTable['output_type'] = 'display_data';\n",
              "          await google.colab.output.renderOutput(dataTable, element);\n",
              "          const docLink = document.createElement('div');\n",
              "          docLink.innerHTML = docLinkHtml;\n",
              "          element.appendChild(docLink);\n",
              "        }\n",
              "      </script>\n",
              "    </div>\n",
              "  </div>\n",
              "  "
            ]
          },
          "metadata": {},
          "execution_count": 5
        }
      ],
      "source": [
        "data.head()"
      ]
    },
    {
      "cell_type": "code",
      "execution_count": 6,
      "id": "fb0485be",
      "metadata": {
        "colab": {
          "base_uri": "https://localhost:8080/",
          "height": 206
        },
        "id": "fb0485be",
        "outputId": "0852544c-ce1d-4e8c-a3df-654dc095d7f1"
      },
      "outputs": [
        {
          "output_type": "execute_result",
          "data": {
            "text/plain": [
              "           Date  Open  High   Low  Close  Adj Close  Volume\n",
              "246  2022-07-11  0.20  0.21  0.20   0.20       0.20   36200\n",
              "247  2022-07-12  0.21  0.22  0.19   0.19       0.19   50500\n",
              "248  2022-07-13  0.19  0.19  0.19   0.19       0.19   24800\n",
              "249  2022-07-14  0.19  0.19  0.19   0.19       0.19     100\n",
              "250  2022-07-15  0.19  0.19  0.18   0.19       0.19   35800"
            ],
            "text/html": [
              "\n",
              "  <div id=\"df-0df6a0d6-d68d-45a4-a8d7-fa9ccf83fa15\">\n",
              "    <div class=\"colab-df-container\">\n",
              "      <div>\n",
              "<style scoped>\n",
              "    .dataframe tbody tr th:only-of-type {\n",
              "        vertical-align: middle;\n",
              "    }\n",
              "\n",
              "    .dataframe tbody tr th {\n",
              "        vertical-align: top;\n",
              "    }\n",
              "\n",
              "    .dataframe thead th {\n",
              "        text-align: right;\n",
              "    }\n",
              "</style>\n",
              "<table border=\"1\" class=\"dataframe\">\n",
              "  <thead>\n",
              "    <tr style=\"text-align: right;\">\n",
              "      <th></th>\n",
              "      <th>Date</th>\n",
              "      <th>Open</th>\n",
              "      <th>High</th>\n",
              "      <th>Low</th>\n",
              "      <th>Close</th>\n",
              "      <th>Adj Close</th>\n",
              "      <th>Volume</th>\n",
              "    </tr>\n",
              "  </thead>\n",
              "  <tbody>\n",
              "    <tr>\n",
              "      <th>246</th>\n",
              "      <td>2022-07-11</td>\n",
              "      <td>0.20</td>\n",
              "      <td>0.21</td>\n",
              "      <td>0.20</td>\n",
              "      <td>0.20</td>\n",
              "      <td>0.20</td>\n",
              "      <td>36200</td>\n",
              "    </tr>\n",
              "    <tr>\n",
              "      <th>247</th>\n",
              "      <td>2022-07-12</td>\n",
              "      <td>0.21</td>\n",
              "      <td>0.22</td>\n",
              "      <td>0.19</td>\n",
              "      <td>0.19</td>\n",
              "      <td>0.19</td>\n",
              "      <td>50500</td>\n",
              "    </tr>\n",
              "    <tr>\n",
              "      <th>248</th>\n",
              "      <td>2022-07-13</td>\n",
              "      <td>0.19</td>\n",
              "      <td>0.19</td>\n",
              "      <td>0.19</td>\n",
              "      <td>0.19</td>\n",
              "      <td>0.19</td>\n",
              "      <td>24800</td>\n",
              "    </tr>\n",
              "    <tr>\n",
              "      <th>249</th>\n",
              "      <td>2022-07-14</td>\n",
              "      <td>0.19</td>\n",
              "      <td>0.19</td>\n",
              "      <td>0.19</td>\n",
              "      <td>0.19</td>\n",
              "      <td>0.19</td>\n",
              "      <td>100</td>\n",
              "    </tr>\n",
              "    <tr>\n",
              "      <th>250</th>\n",
              "      <td>2022-07-15</td>\n",
              "      <td>0.19</td>\n",
              "      <td>0.19</td>\n",
              "      <td>0.18</td>\n",
              "      <td>0.19</td>\n",
              "      <td>0.19</td>\n",
              "      <td>35800</td>\n",
              "    </tr>\n",
              "  </tbody>\n",
              "</table>\n",
              "</div>\n",
              "      <button class=\"colab-df-convert\" onclick=\"convertToInteractive('df-0df6a0d6-d68d-45a4-a8d7-fa9ccf83fa15')\"\n",
              "              title=\"Convert this dataframe to an interactive table.\"\n",
              "              style=\"display:none;\">\n",
              "        \n",
              "  <svg xmlns=\"http://www.w3.org/2000/svg\" height=\"24px\"viewBox=\"0 0 24 24\"\n",
              "       width=\"24px\">\n",
              "    <path d=\"M0 0h24v24H0V0z\" fill=\"none\"/>\n",
              "    <path d=\"M18.56 5.44l.94 2.06.94-2.06 2.06-.94-2.06-.94-.94-2.06-.94 2.06-2.06.94zm-11 1L8.5 8.5l.94-2.06 2.06-.94-2.06-.94L8.5 2.5l-.94 2.06-2.06.94zm10 10l.94 2.06.94-2.06 2.06-.94-2.06-.94-.94-2.06-.94 2.06-2.06.94z\"/><path d=\"M17.41 7.96l-1.37-1.37c-.4-.4-.92-.59-1.43-.59-.52 0-1.04.2-1.43.59L10.3 9.45l-7.72 7.72c-.78.78-.78 2.05 0 2.83L4 21.41c.39.39.9.59 1.41.59.51 0 1.02-.2 1.41-.59l7.78-7.78 2.81-2.81c.8-.78.8-2.07 0-2.86zM5.41 20L4 18.59l7.72-7.72 1.47 1.35L5.41 20z\"/>\n",
              "  </svg>\n",
              "      </button>\n",
              "      \n",
              "  <style>\n",
              "    .colab-df-container {\n",
              "      display:flex;\n",
              "      flex-wrap:wrap;\n",
              "      gap: 12px;\n",
              "    }\n",
              "\n",
              "    .colab-df-convert {\n",
              "      background-color: #E8F0FE;\n",
              "      border: none;\n",
              "      border-radius: 50%;\n",
              "      cursor: pointer;\n",
              "      display: none;\n",
              "      fill: #1967D2;\n",
              "      height: 32px;\n",
              "      padding: 0 0 0 0;\n",
              "      width: 32px;\n",
              "    }\n",
              "\n",
              "    .colab-df-convert:hover {\n",
              "      background-color: #E2EBFA;\n",
              "      box-shadow: 0px 1px 2px rgba(60, 64, 67, 0.3), 0px 1px 3px 1px rgba(60, 64, 67, 0.15);\n",
              "      fill: #174EA6;\n",
              "    }\n",
              "\n",
              "    [theme=dark] .colab-df-convert {\n",
              "      background-color: #3B4455;\n",
              "      fill: #D2E3FC;\n",
              "    }\n",
              "\n",
              "    [theme=dark] .colab-df-convert:hover {\n",
              "      background-color: #434B5C;\n",
              "      box-shadow: 0px 1px 3px 1px rgba(0, 0, 0, 0.15);\n",
              "      filter: drop-shadow(0px 1px 2px rgba(0, 0, 0, 0.3));\n",
              "      fill: #FFFFFF;\n",
              "    }\n",
              "  </style>\n",
              "\n",
              "      <script>\n",
              "        const buttonEl =\n",
              "          document.querySelector('#df-0df6a0d6-d68d-45a4-a8d7-fa9ccf83fa15 button.colab-df-convert');\n",
              "        buttonEl.style.display =\n",
              "          google.colab.kernel.accessAllowed ? 'block' : 'none';\n",
              "\n",
              "        async function convertToInteractive(key) {\n",
              "          const element = document.querySelector('#df-0df6a0d6-d68d-45a4-a8d7-fa9ccf83fa15');\n",
              "          const dataTable =\n",
              "            await google.colab.kernel.invokeFunction('convertToInteractive',\n",
              "                                                     [key], {});\n",
              "          if (!dataTable) return;\n",
              "\n",
              "          const docLinkHtml = 'Like what you see? Visit the ' +\n",
              "            '<a target=\"_blank\" href=https://colab.research.google.com/notebooks/data_table.ipynb>data table notebook</a>'\n",
              "            + ' to learn more about interactive tables.';\n",
              "          element.innerHTML = '';\n",
              "          dataTable['output_type'] = 'display_data';\n",
              "          await google.colab.output.renderOutput(dataTable, element);\n",
              "          const docLink = document.createElement('div');\n",
              "          docLink.innerHTML = docLinkHtml;\n",
              "          element.appendChild(docLink);\n",
              "        }\n",
              "      </script>\n",
              "    </div>\n",
              "  </div>\n",
              "  "
            ]
          },
          "metadata": {},
          "execution_count": 6
        }
      ],
      "source": [
        "data.tail()"
      ]
    },
    {
      "cell_type": "code",
      "execution_count": 7,
      "id": "baa17d04",
      "metadata": {
        "colab": {
          "base_uri": "https://localhost:8080/"
        },
        "id": "baa17d04",
        "outputId": "7f94c9f6-9fe5-4af5-941f-1df9b5f50c39"
      },
      "outputs": [
        {
          "output_type": "execute_result",
          "data": {
            "text/plain": [
              "['AAPL', 'GOOG', 'TSLA', 'FB']"
            ]
          },
          "metadata": {},
          "execution_count": 7
        }
      ],
      "source": [
        "# The tech stocks we'll use for this analysis\n",
        "tech_list = ['AAPL', 'GOOG', 'TSLA', 'FB']\n",
        "tech_list"
      ]
    },
    {
      "cell_type": "code",
      "execution_count": 8,
      "id": "df0c555c",
      "metadata": {
        "id": "df0c555c"
      },
      "outputs": [],
      "source": [
        "# Set up End and Start times for data grab (We will analyze for 2 years)\n",
        "end = datetime.now()\n",
        "start = datetime(end.year - 2, end.month, end.day)"
      ]
    },
    {
      "cell_type": "code",
      "execution_count": 8,
      "id": "71f1839b",
      "metadata": {
        "id": "71f1839b"
      },
      "outputs": [],
      "source": [
        ""
      ]
    },
    {
      "cell_type": "code",
      "execution_count": 9,
      "id": "cc75ae32",
      "metadata": {
        "colab": {
          "base_uri": "https://localhost:8080/"
        },
        "id": "cc75ae32",
        "outputId": "7e14e438-4775-4ca0-9d31-9a2c95ceaaf0"
      },
      "outputs": [
        {
          "output_type": "execute_result",
          "data": {
            "text/plain": [
              "Index(['Date', 'Open', 'High', 'Low', 'Close', 'Adj Close', 'Volume'], dtype='object')"
            ]
          },
          "metadata": {},
          "execution_count": 9
        }
      ],
      "source": [
        "data.columns\n",
        "\n"
      ]
    },
    {
      "cell_type": "code",
      "execution_count": 10,
      "id": "391a535a",
      "metadata": {
        "colab": {
          "base_uri": "https://localhost:8080/"
        },
        "id": "391a535a",
        "outputId": "e2fe86d5-8c04-413d-9639-6265eb183992"
      },
      "outputs": [
        {
          "output_type": "execute_result",
          "data": {
            "text/plain": [
              "Index(['Date', 'Open', 'High', 'Low', 'Close', 'Adj Close', 'Volume'], dtype='object')"
            ]
          },
          "metadata": {},
          "execution_count": 10
        }
      ],
      "source": [
        "data.columns"
      ]
    },
    {
      "cell_type": "code",
      "execution_count": 11,
      "id": "abc3ae97",
      "metadata": {
        "id": "abc3ae97"
      },
      "outputs": [],
      "source": [
        "data.rename(columns={'Open': 'open', 'High': 'high', 'Low': 'low', 'Close': 'close', 'Adj Close': 'adjclose', 'Volume': 'volume'}, inplace = True)"
      ]
    },
    {
      "cell_type": "code",
      "execution_count": 12,
      "id": "42d6ce3e",
      "metadata": {
        "colab": {
          "base_uri": "https://localhost:8080/"
        },
        "id": "42d6ce3e",
        "outputId": "37b97a99-717d-44ac-9285-3cb1180fb2e7"
      },
      "outputs": [
        {
          "output_type": "stream",
          "name": "stdout",
          "text": [
            "<class 'pandas.core.frame.DataFrame'>\n",
            "RangeIndex: 251 entries, 0 to 250\n",
            "Data columns (total 7 columns):\n",
            " #   Column    Non-Null Count  Dtype  \n",
            "---  ------    --------------  -----  \n",
            " 0   Date      251 non-null    object \n",
            " 1   open      251 non-null    float64\n",
            " 2   high      251 non-null    float64\n",
            " 3   low       251 non-null    float64\n",
            " 4   close     251 non-null    float64\n",
            " 5   adjclose  251 non-null    float64\n",
            " 6   volume    251 non-null    int64  \n",
            "dtypes: float64(5), int64(1), object(1)\n",
            "memory usage: 13.9+ KB\n"
          ]
        }
      ],
      "source": [
        "data.info()"
      ]
    },
    {
      "cell_type": "code",
      "execution_count": 13,
      "id": "2ad68df8",
      "metadata": {
        "colab": {
          "base_uri": "https://localhost:8080/",
          "height": 300
        },
        "id": "2ad68df8",
        "outputId": "74f5d543-434f-4439-955c-e476b4ffa14a"
      },
      "outputs": [
        {
          "output_type": "execute_result",
          "data": {
            "text/plain": [
              "             open        high         low       close    adjclose  \\\n",
              "count  251.000000  251.000000  251.000000  251.000000  251.000000   \n",
              "mean     0.190837    0.195458    0.186853    0.190876    0.190876   \n",
              "std      0.030445    0.033575    0.027467    0.030699    0.030699   \n",
              "min      0.150000    0.160000    0.150000    0.150000    0.150000   \n",
              "25%      0.170000    0.170000    0.170000    0.170000    0.170000   \n",
              "50%      0.180000    0.190000    0.180000    0.180000    0.180000   \n",
              "75%      0.200000    0.210000    0.190000    0.200000    0.200000   \n",
              "max      0.310000    0.340000    0.290000    0.310000    0.310000   \n",
              "\n",
              "             volume  \n",
              "count     251.00000  \n",
              "mean    40349.40239  \n",
              "std     62340.85105  \n",
              "min         0.00000  \n",
              "25%      3550.00000  \n",
              "50%     15100.00000  \n",
              "75%     49900.00000  \n",
              "max    350200.00000  "
            ],
            "text/html": [
              "\n",
              "  <div id=\"df-1d91db68-899e-41b7-9e35-e96239cb9ef0\">\n",
              "    <div class=\"colab-df-container\">\n",
              "      <div>\n",
              "<style scoped>\n",
              "    .dataframe tbody tr th:only-of-type {\n",
              "        vertical-align: middle;\n",
              "    }\n",
              "\n",
              "    .dataframe tbody tr th {\n",
              "        vertical-align: top;\n",
              "    }\n",
              "\n",
              "    .dataframe thead th {\n",
              "        text-align: right;\n",
              "    }\n",
              "</style>\n",
              "<table border=\"1\" class=\"dataframe\">\n",
              "  <thead>\n",
              "    <tr style=\"text-align: right;\">\n",
              "      <th></th>\n",
              "      <th>open</th>\n",
              "      <th>high</th>\n",
              "      <th>low</th>\n",
              "      <th>close</th>\n",
              "      <th>adjclose</th>\n",
              "      <th>volume</th>\n",
              "    </tr>\n",
              "  </thead>\n",
              "  <tbody>\n",
              "    <tr>\n",
              "      <th>count</th>\n",
              "      <td>251.000000</td>\n",
              "      <td>251.000000</td>\n",
              "      <td>251.000000</td>\n",
              "      <td>251.000000</td>\n",
              "      <td>251.000000</td>\n",
              "      <td>251.00000</td>\n",
              "    </tr>\n",
              "    <tr>\n",
              "      <th>mean</th>\n",
              "      <td>0.190837</td>\n",
              "      <td>0.195458</td>\n",
              "      <td>0.186853</td>\n",
              "      <td>0.190876</td>\n",
              "      <td>0.190876</td>\n",
              "      <td>40349.40239</td>\n",
              "    </tr>\n",
              "    <tr>\n",
              "      <th>std</th>\n",
              "      <td>0.030445</td>\n",
              "      <td>0.033575</td>\n",
              "      <td>0.027467</td>\n",
              "      <td>0.030699</td>\n",
              "      <td>0.030699</td>\n",
              "      <td>62340.85105</td>\n",
              "    </tr>\n",
              "    <tr>\n",
              "      <th>min</th>\n",
              "      <td>0.150000</td>\n",
              "      <td>0.160000</td>\n",
              "      <td>0.150000</td>\n",
              "      <td>0.150000</td>\n",
              "      <td>0.150000</td>\n",
              "      <td>0.00000</td>\n",
              "    </tr>\n",
              "    <tr>\n",
              "      <th>25%</th>\n",
              "      <td>0.170000</td>\n",
              "      <td>0.170000</td>\n",
              "      <td>0.170000</td>\n",
              "      <td>0.170000</td>\n",
              "      <td>0.170000</td>\n",
              "      <td>3550.00000</td>\n",
              "    </tr>\n",
              "    <tr>\n",
              "      <th>50%</th>\n",
              "      <td>0.180000</td>\n",
              "      <td>0.190000</td>\n",
              "      <td>0.180000</td>\n",
              "      <td>0.180000</td>\n",
              "      <td>0.180000</td>\n",
              "      <td>15100.00000</td>\n",
              "    </tr>\n",
              "    <tr>\n",
              "      <th>75%</th>\n",
              "      <td>0.200000</td>\n",
              "      <td>0.210000</td>\n",
              "      <td>0.190000</td>\n",
              "      <td>0.200000</td>\n",
              "      <td>0.200000</td>\n",
              "      <td>49900.00000</td>\n",
              "    </tr>\n",
              "    <tr>\n",
              "      <th>max</th>\n",
              "      <td>0.310000</td>\n",
              "      <td>0.340000</td>\n",
              "      <td>0.290000</td>\n",
              "      <td>0.310000</td>\n",
              "      <td>0.310000</td>\n",
              "      <td>350200.00000</td>\n",
              "    </tr>\n",
              "  </tbody>\n",
              "</table>\n",
              "</div>\n",
              "      <button class=\"colab-df-convert\" onclick=\"convertToInteractive('df-1d91db68-899e-41b7-9e35-e96239cb9ef0')\"\n",
              "              title=\"Convert this dataframe to an interactive table.\"\n",
              "              style=\"display:none;\">\n",
              "        \n",
              "  <svg xmlns=\"http://www.w3.org/2000/svg\" height=\"24px\"viewBox=\"0 0 24 24\"\n",
              "       width=\"24px\">\n",
              "    <path d=\"M0 0h24v24H0V0z\" fill=\"none\"/>\n",
              "    <path d=\"M18.56 5.44l.94 2.06.94-2.06 2.06-.94-2.06-.94-.94-2.06-.94 2.06-2.06.94zm-11 1L8.5 8.5l.94-2.06 2.06-.94-2.06-.94L8.5 2.5l-.94 2.06-2.06.94zm10 10l.94 2.06.94-2.06 2.06-.94-2.06-.94-.94-2.06-.94 2.06-2.06.94z\"/><path d=\"M17.41 7.96l-1.37-1.37c-.4-.4-.92-.59-1.43-.59-.52 0-1.04.2-1.43.59L10.3 9.45l-7.72 7.72c-.78.78-.78 2.05 0 2.83L4 21.41c.39.39.9.59 1.41.59.51 0 1.02-.2 1.41-.59l7.78-7.78 2.81-2.81c.8-.78.8-2.07 0-2.86zM5.41 20L4 18.59l7.72-7.72 1.47 1.35L5.41 20z\"/>\n",
              "  </svg>\n",
              "      </button>\n",
              "      \n",
              "  <style>\n",
              "    .colab-df-container {\n",
              "      display:flex;\n",
              "      flex-wrap:wrap;\n",
              "      gap: 12px;\n",
              "    }\n",
              "\n",
              "    .colab-df-convert {\n",
              "      background-color: #E8F0FE;\n",
              "      border: none;\n",
              "      border-radius: 50%;\n",
              "      cursor: pointer;\n",
              "      display: none;\n",
              "      fill: #1967D2;\n",
              "      height: 32px;\n",
              "      padding: 0 0 0 0;\n",
              "      width: 32px;\n",
              "    }\n",
              "\n",
              "    .colab-df-convert:hover {\n",
              "      background-color: #E2EBFA;\n",
              "      box-shadow: 0px 1px 2px rgba(60, 64, 67, 0.3), 0px 1px 3px 1px rgba(60, 64, 67, 0.15);\n",
              "      fill: #174EA6;\n",
              "    }\n",
              "\n",
              "    [theme=dark] .colab-df-convert {\n",
              "      background-color: #3B4455;\n",
              "      fill: #D2E3FC;\n",
              "    }\n",
              "\n",
              "    [theme=dark] .colab-df-convert:hover {\n",
              "      background-color: #434B5C;\n",
              "      box-shadow: 0px 1px 3px 1px rgba(0, 0, 0, 0.15);\n",
              "      filter: drop-shadow(0px 1px 2px rgba(0, 0, 0, 0.3));\n",
              "      fill: #FFFFFF;\n",
              "    }\n",
              "  </style>\n",
              "\n",
              "      <script>\n",
              "        const buttonEl =\n",
              "          document.querySelector('#df-1d91db68-899e-41b7-9e35-e96239cb9ef0 button.colab-df-convert');\n",
              "        buttonEl.style.display =\n",
              "          google.colab.kernel.accessAllowed ? 'block' : 'none';\n",
              "\n",
              "        async function convertToInteractive(key) {\n",
              "          const element = document.querySelector('#df-1d91db68-899e-41b7-9e35-e96239cb9ef0');\n",
              "          const dataTable =\n",
              "            await google.colab.kernel.invokeFunction('convertToInteractive',\n",
              "                                                     [key], {});\n",
              "          if (!dataTable) return;\n",
              "\n",
              "          const docLinkHtml = 'Like what you see? Visit the ' +\n",
              "            '<a target=\"_blank\" href=https://colab.research.google.com/notebooks/data_table.ipynb>data table notebook</a>'\n",
              "            + ' to learn more about interactive tables.';\n",
              "          element.innerHTML = '';\n",
              "          dataTable['output_type'] = 'display_data';\n",
              "          await google.colab.output.renderOutput(dataTable, element);\n",
              "          const docLink = document.createElement('div');\n",
              "          docLink.innerHTML = docLinkHtml;\n",
              "          element.appendChild(docLink);\n",
              "        }\n",
              "      </script>\n",
              "    </div>\n",
              "  </div>\n",
              "  "
            ]
          },
          "metadata": {},
          "execution_count": 13
        }
      ],
      "source": [
        "data.describe()"
      ]
    },
    {
      "cell_type": "code",
      "execution_count": 14,
      "id": "faa50b10",
      "metadata": {
        "id": "faa50b10"
      },
      "outputs": [],
      "source": [
        "data.reset_index(inplace=True)"
      ]
    },
    {
      "cell_type": "code",
      "execution_count": 14,
      "id": "2fe42392",
      "metadata": {
        "id": "2fe42392"
      },
      "outputs": [],
      "source": [
        ""
      ]
    },
    {
      "cell_type": "code",
      "execution_count": 15,
      "id": "07bdd366",
      "metadata": {
        "colab": {
          "base_uri": "https://localhost:8080/"
        },
        "id": "07bdd366",
        "outputId": "98baf4cb-0b1b-4f6e-c057-0626ee24f4e6"
      },
      "outputs": [
        {
          "output_type": "execute_result",
          "data": {
            "text/plain": [
              "0      0.17\n",
              "1      0.17\n",
              "2      0.19\n",
              "3      0.19\n",
              "4      0.19\n",
              "       ... \n",
              "246    0.20\n",
              "247    0.20\n",
              "248    0.19\n",
              "249    0.19\n",
              "250    0.19\n",
              "Length: 251, dtype: float64"
            ]
          },
          "metadata": {},
          "execution_count": 15
        }
      ],
      "source": [
        "#before moving forward let us calculate first the actual \n",
        "data_price = round((data['high'] + data['low'] + data['close'])/ 3, 2)\n",
        "data_price  #actual price"
      ]
    },
    {
      "cell_type": "code",
      "execution_count": 16,
      "id": "2563b9d1",
      "metadata": {
        "id": "2563b9d1"
      },
      "outputs": [],
      "source": [
        "def stock_weekmovingavg(wks, df):\n",
        "  dateclose_data = pd.DataFrame({'Date': df['Date'], 'close':df['close']})\n",
        "  dateclose_data.set_index('date', inplace=True)\n",
        "  num = wks * 5                                 #calculating the number of days in the week. 5 days because BSE is open for 5 days / week\n",
        "  dateclose_data['movingavg'] = dateclose_data['close'].rolling(window=num).mean().shift()\n",
        "  return dateclose_data.dropna()"
      ]
    },
    {
      "cell_type": "code",
      "execution_count": 17,
      "id": "0659b5e7",
      "metadata": {
        "colab": {
          "base_uri": "https://localhost:8080/",
          "height": 296
        },
        "id": "0659b5e7",
        "outputId": "de858b8e-a076-4083-ad4a-38aa4f3af5af"
      },
      "outputs": [
        {
          "output_type": "execute_result",
          "data": {
            "text/plain": [
              "Text(0.5, 0, 'High')"
            ]
          },
          "metadata": {},
          "execution_count": 17
        },
        {
          "output_type": "display_data",
          "data": {
            "text/plain": [
              "<Figure size 432x288 with 1 Axes>"
            ],
            "image/png": "[encoded data removed]"
          },
          "metadata": {
            "needs_background": "light"
          }
        }
      ],
      "source": [
        "data[\"high\"].plot()\n",
        "plt.xlabel(\"High\")\n"
      ]
    },
    {
      "cell_type": "code",
      "execution_count": 18,
      "id": "a0edaa9d",
      "metadata": {
        "colab": {
          "base_uri": "https://localhost:8080/",
          "height": 296
        },
        "id": "a0edaa9d",
        "outputId": "78bc9c62-6169-4457-b90a-766584eca1e8"
      },
      "outputs": [
        {
          "output_type": "execute_result",
          "data": {
            "text/plain": [
              "Text(0.5, 0, 'High')"
            ]
          },
          "metadata": {},
          "execution_count": 18
        },
        {
          "output_type": "display_data",
          "data": {
            "text/plain": [
              "<Figure size 432x288 with 1 Axes>"
            ],
            "image/png": "[encoded data removed]"
          },
          "metadata": {
            "needs_background": "light"
          }
        }
      ],
      "source": [
        "data[\"low\"].plot()\n",
        "plt.xlabel(\"High\")"
      ]
    },
    {
      "cell_type": "code",
      "execution_count": 19,
      "id": "cfcdbf32",
      "metadata": {
        "colab": {
          "base_uri": "https://localhost:8080/",
          "height": 296
        },
        "id": "cfcdbf32",
        "outputId": "ea404b61-7bdf-4c9a-d318-0277f3ec39c3"
      },
      "outputs": [
        {
          "output_type": "execute_result",
          "data": {
            "text/plain": [
              "Text(0.5, 0, 'open')"
            ]
          },
          "metadata": {},
          "execution_count": 19
        },
        {
          "output_type": "display_data",
          "data": {
            "text/plain": [
              "<Figure size 432x288 with 1 Axes>"
            ],
            "image/png": "[encoded data removed]"
          },
          "metadata": {
            "needs_background": "light"
          }
        }
      ],
      "source": [
        "data[\"open\"].plot()\n",
        "plt.xlabel(\"open\")"
      ]
    },
    {
      "cell_type": "code",
      "execution_count": 20,
      "id": "1f1ffb73",
      "metadata": {
        "colab": {
          "base_uri": "https://localhost:8080/",
          "height": 296
        },
        "id": "1f1ffb73",
        "outputId": "2a582a13-07c0-43e2-f441-df32c3fe180c"
      },
      "outputs": [
        {
          "output_type": "execute_result",
          "data": {
            "text/plain": [
              "Text(0.5, 0, 'open')"
            ]
          },
          "metadata": {},
          "execution_count": 20
        },
        {
          "output_type": "display_data",
          "data": {
            "text/plain": [
              "<Figure size 432x288 with 1 Axes>"
            ],
            "image/png": "[encoded data removed]"
          },
          "metadata": {
            "needs_background": "light"
          }
        }
      ],
      "source": [
        "data[\"close\"].plot()\n",
        "plt.xlabel(\"open\")"
      ]
    },
    {
      "cell_type": "code",
      "execution_count": 21,
      "id": "5745cdb2",
      "metadata": {
        "colab": {
          "base_uri": "https://localhost:8080/",
          "height": 296
        },
        "id": "5745cdb2",
        "outputId": "af7110f8-8d65-4985-8d72-6dce418b0010"
      },
      "outputs": [
        {
          "output_type": "execute_result",
          "data": {
            "text/plain": [
              "Text(0.5, 0, 'open')"
            ]
          },
          "metadata": {},
          "execution_count": 21
        },
        {
          "output_type": "display_data",
          "data": {
            "text/plain": [
              "<Figure size 432x288 with 1 Axes>"
            ],
            "image/png": "[encoded data removed]"
          },
          "metadata": {
            "needs_background": "light"
          }
        }
      ],
      "source": [
        "data[\"volume\"].plot()\n",
        "plt.xlabel(\"open\")"
      ]
    },
    {
      "cell_type": "code",
      "execution_count": 21,
      "id": "87308e1d",
      "metadata": {
        "id": "87308e1d"
      },
      "outputs": [],
      "source": [
        ""
      ]
    },
    {
      "cell_type": "code",
      "execution_count": 22,
      "id": "06a67b0d",
      "metadata": {
        "id": "06a67b0d"
      },
      "outputs": [],
      "source": [
        "data[\"Date\"]=pd.to_datetime(data[\"Date\"],infer_datetime_format=True)\n",
        "data=data.set_index(['Date'])\n",
        "data.fillna(method='ffill',inplace=True)"
      ]
    },
    {
      "cell_type": "code",
      "execution_count": 23,
      "id": "5fc0057f",
      "metadata": {
        "id": "5fc0057f"
      },
      "outputs": [],
      "source": [
        "from sklearn.preprocessing import MinMaxScaler\n",
        "scale=MinMaxScaler()\n",
        "scale=scale.fit(data)\n",
        "data=scale.transform(data)"
      ]
    },
    {
      "cell_type": "code",
      "execution_count": 24,
      "id": "32e6dc8d",
      "metadata": {
        "id": "32e6dc8d"
      },
      "outputs": [],
      "source": [
        "def sss(w):\n",
        "    t1,t2=w.shape\n",
        "    a=[]\n",
        "    t={}\n",
        "    for i in range(t2):\n",
        "        for j in range(t1):\n",
        "                a.append(w[j][i])\n",
        "        ss=pd.Series(a)\n",
        "        t.update({i:ss})\n",
        "        a=[]\n",
        "    k=[]\n",
        "    for i,j in t.items():\n",
        "        k.append(j)\n",
        "    ww=pd.concat(k,axis=1)\n",
        "    n=len(ww.columns)\n",
        "    for i in range(n):\n",
        "         ww[n+i]=ww[i].shift(-1)\n",
        "    return ww"
      ]
    },
    {
      "cell_type": "code",
      "execution_count": 25,
      "id": "fef9ce06",
      "metadata": {
        "id": "fef9ce06"
      },
      "outputs": [],
      "source": [
        "w=sss(data)\n"
      ]
    },
    {
      "cell_type": "code",
      "execution_count": 26,
      "id": "44ab115f",
      "metadata": {
        "colab": {
          "base_uri": "https://localhost:8080/",
          "height": 424
        },
        "id": "44ab115f",
        "outputId": "4c1e9ff7-7dea-4752-d73c-186648d0e16a"
      },
      "outputs": [
        {
          "output_type": "execute_result",
          "data": {
            "text/plain": [
              "        0       1         2         3       4       5         6      7   \\\n",
              "0    0.000  0.1250  0.055556  0.142857  0.1250  0.1250  0.034552  0.004   \n",
              "1    0.004  0.1250  0.055556  0.142857  0.1250  0.1250  0.125071  0.008   \n",
              "2    0.008  0.1250  0.222222  0.142857  0.3125  0.3125  0.182753  0.012   \n",
              "3    0.012  0.3125  0.222222  0.285714  0.2500  0.2500  0.256996  0.016   \n",
              "4    0.016  0.2500  0.166667  0.214286  0.2500  0.2500  0.261565  0.020   \n",
              "..     ...     ...       ...       ...     ...     ...       ...    ...   \n",
              "246  0.984  0.3125  0.277778  0.357143  0.3125  0.3125  0.103370  0.988   \n",
              "247  0.988  0.3750  0.333333  0.285714  0.2500  0.2500  0.144203  0.992   \n",
              "248  0.992  0.2500  0.166667  0.285714  0.2500  0.2500  0.070817  0.996   \n",
              "249  0.996  0.2500  0.166667  0.285714  0.2500  0.2500  0.000286  1.000   \n",
              "250  1.000  0.2500  0.166667  0.214286  0.2500  0.2500  0.102227    NaN   \n",
              "\n",
              "         8         9         10      11      12        13  \n",
              "0    0.1250  0.055556  0.142857  0.1250  0.1250  0.125071  \n",
              "1    0.1250  0.222222  0.142857  0.3125  0.3125  0.182753  \n",
              "2    0.3125  0.222222  0.285714  0.2500  0.2500  0.256996  \n",
              "3    0.2500  0.166667  0.214286  0.2500  0.2500  0.261565  \n",
              "4    0.1875  0.166667  0.214286  0.1875  0.1875  0.140777  \n",
              "..      ...       ...       ...     ...     ...       ...  \n",
              "246  0.3750  0.333333  0.285714  0.2500  0.2500  0.144203  \n",
              "247  0.2500  0.166667  0.285714  0.2500  0.2500  0.070817  \n",
              "248  0.2500  0.166667  0.285714  0.2500  0.2500  0.000286  \n",
              "249  0.2500  0.166667  0.214286  0.2500  0.2500  0.102227  \n",
              "250     NaN       NaN       NaN     NaN     NaN       NaN  \n",
              "\n",
              "[251 rows x 14 columns]"
            ],
            "text/html": [
              "\n",
              "  <div id=\"df-62784bfc-e83c-40e0-b451-b487b51bcc44\">\n",
              "    <div class=\"colab-df-container\">\n",
              "      <div>\n",
              "<style scoped>\n",
              "    .dataframe tbody tr th:only-of-type {\n",
              "        vertical-align: middle;\n",
              "    }\n",
              "\n",
              "    .dataframe tbody tr th {\n",
              "        vertical-align: top;\n",
              "    }\n",
              "\n",
              "    .dataframe thead th {\n",
              "        text-align: right;\n",
              "    }\n",
              "</style>\n",
              "<table border=\"1\" class=\"dataframe\">\n",
              "  <thead>\n",
              "    <tr style=\"text-align: right;\">\n",
              "      <th></th>\n",
              "      <th>0</th>\n",
              "      <th>1</th>\n",
              "      <th>2</th>\n",
              "      <th>3</th>\n",
              "      <th>4</th>\n",
              "      <th>5</th>\n",
              "      <th>6</th>\n",
              "      <th>7</th>\n",
              "      <th>8</th>\n",
              "      <th>9</th>\n",
              "      <th>10</th>\n",
              "      <th>11</th>\n",
              "      <th>12</th>\n",
              "      <th>13</th>\n",
              "    </tr>\n",
              "  </thead>\n",
              "  <tbody>\n",
              "    <tr>\n",
              "      <th>0</th>\n",
              "      <td>0.000</td>\n",
              "      <td>0.1250</td>\n",
              "      <td>0.055556</td>\n",
              "      <td>0.142857</td>\n",
              "      <td>0.1250</td>\n",
              "      <td>0.1250</td>\n",
              "      <td>0.034552</td>\n",
              "      <td>0.004</td>\n",
              "      <td>0.1250</td>\n",
              "      <td>0.055556</td>\n",
              "      <td>0.142857</td>\n",
              "      <td>0.1250</td>\n",
              "      <td>0.1250</td>\n",
              "      <td>0.125071</td>\n",
              "    </tr>\n",
              "    <tr>\n",
              "      <th>1</th>\n",
              "      <td>0.004</td>\n",
              "      <td>0.1250</td>\n",
              "      <td>0.055556</td>\n",
              "      <td>0.142857</td>\n",
              "      <td>0.1250</td>\n",
              "      <td>0.1250</td>\n",
              "      <td>0.125071</td>\n",
              "      <td>0.008</td>\n",
              "      <td>0.1250</td>\n",
              "      <td>0.222222</td>\n",
              "      <td>0.142857</td>\n",
              "      <td>0.3125</td>\n",
              "      <td>0.3125</td>\n",
              "      <td>0.182753</td>\n",
              "    </tr>\n",
              "    <tr>\n",
              "      <th>2</th>\n",
              "      <td>0.008</td>\n",
              "      <td>0.1250</td>\n",
              "      <td>0.222222</td>\n",
              "      <td>0.142857</td>\n",
              "      <td>0.3125</td>\n",
              "      <td>0.3125</td>\n",
              "      <td>0.182753</td>\n",
              "      <td>0.012</td>\n",
              "      <td>0.3125</td>\n",
              "      <td>0.222222</td>\n",
              "      <td>0.285714</td>\n",
              "      <td>0.2500</td>\n",
              "      <td>0.2500</td>\n",
              "      <td>0.256996</td>\n",
              "    </tr>\n",
              "    <tr>\n",
              "      <th>3</th>\n",
              "      <td>0.012</td>\n",
              "      <td>0.3125</td>\n",
              "      <td>0.222222</td>\n",
              "      <td>0.285714</td>\n",
              "      <td>0.2500</td>\n",
              "      <td>0.2500</td>\n",
              "      <td>0.256996</td>\n",
              "      <td>0.016</td>\n",
              "      <td>0.2500</td>\n",
              "      <td>0.166667</td>\n",
              "      <td>0.214286</td>\n",
              "      <td>0.2500</td>\n",
              "      <td>0.2500</td>\n",
              "      <td>0.261565</td>\n",
              "    </tr>\n",
              "    <tr>\n",
              "      <th>4</th>\n",
              "      <td>0.016</td>\n",
              "      <td>0.2500</td>\n",
              "      <td>0.166667</td>\n",
              "      <td>0.214286</td>\n",
              "      <td>0.2500</td>\n",
              "      <td>0.2500</td>\n",
              "      <td>0.261565</td>\n",
              "      <td>0.020</td>\n",
              "      <td>0.1875</td>\n",
              "      <td>0.166667</td>\n",
              "      <td>0.214286</td>\n",
              "      <td>0.1875</td>\n",
              "      <td>0.1875</td>\n",
              "      <td>0.140777</td>\n",
              "    </tr>\n",
              "    <tr>\n",
              "      <th>...</th>\n",
              "      <td>...</td>\n",
              "      <td>...</td>\n",
              "      <td>...</td>\n",
              "      <td>...</td>\n",
              "      <td>...</td>\n",
              "      <td>...</td>\n",
              "      <td>...</td>\n",
              "      <td>...</td>\n",
              "      <td>...</td>\n",
              "      <td>...</td>\n",
              "      <td>...</td>\n",
              "      <td>...</td>\n",
              "      <td>...</td>\n",
              "      <td>...</td>\n",
              "    </tr>\n",
              "    <tr>\n",
              "      <th>246</th>\n",
              "      <td>0.984</td>\n",
              "      <td>0.3125</td>\n",
              "      <td>0.277778</td>\n",
              "      <td>0.357143</td>\n",
              "      <td>0.3125</td>\n",
              "      <td>0.3125</td>\n",
              "      <td>0.103370</td>\n",
              "      <td>0.988</td>\n",
              "      <td>0.3750</td>\n",
              "      <td>0.333333</td>\n",
              "      <td>0.285714</td>\n",
              "      <td>0.2500</td>\n",
              "      <td>0.2500</td>\n",
              "      <td>0.144203</td>\n",
              "    </tr>\n",
              "    <tr>\n",
              "      <th>247</th>\n",
              "      <td>0.988</td>\n",
              "      <td>0.3750</td>\n",
              "      <td>0.333333</td>\n",
              "      <td>0.285714</td>\n",
              "      <td>0.2500</td>\n",
              "      <td>0.2500</td>\n",
              "      <td>0.144203</td>\n",
              "      <td>0.992</td>\n",
              "      <td>0.2500</td>\n",
              "      <td>0.166667</td>\n",
              "      <td>0.285714</td>\n",
              "      <td>0.2500</td>\n",
              "      <td>0.2500</td>\n",
              "      <td>0.070817</td>\n",
              "    </tr>\n",
              "    <tr>\n",
              "      <th>248</th>\n",
              "      <td>0.992</td>\n",
              "      <td>0.2500</td>\n",
              "      <td>0.166667</td>\n",
              "      <td>0.285714</td>\n",
              "      <td>0.2500</td>\n",
              "      <td>0.2500</td>\n",
              "      <td>0.070817</td>\n",
              "      <td>0.996</td>\n",
              "      <td>0.2500</td>\n",
              "      <td>0.166667</td>\n",
              "      <td>0.285714</td>\n",
              "      <td>0.2500</td>\n",
              "      <td>0.2500</td>\n",
              "      <td>0.000286</td>\n",
              "    </tr>\n",
              "    <tr>\n",
              "      <th>249</th>\n",
              "      <td>0.996</td>\n",
              "      <td>0.2500</td>\n",
              "      <td>0.166667</td>\n",
              "      <td>0.285714</td>\n",
              "      <td>0.2500</td>\n",
              "      <td>0.2500</td>\n",
              "      <td>0.000286</td>\n",
              "      <td>1.000</td>\n",
              "      <td>0.2500</td>\n",
              "      <td>0.166667</td>\n",
              "      <td>0.214286</td>\n",
              "      <td>0.2500</td>\n",
              "      <td>0.2500</td>\n",
              "      <td>0.102227</td>\n",
              "    </tr>\n",
              "    <tr>\n",
              "      <th>250</th>\n",
              "      <td>1.000</td>\n",
              "      <td>0.2500</td>\n",
              "      <td>0.166667</td>\n",
              "      <td>0.214286</td>\n",
              "      <td>0.2500</td>\n",
              "      <td>0.2500</td>\n",
              "      <td>0.102227</td>\n",
              "      <td>NaN</td>\n",
              "      <td>NaN</td>\n",
              "      <td>NaN</td>\n",
              "      <td>NaN</td>\n",
              "      <td>NaN</td>\n",
              "      <td>NaN</td>\n",
              "      <td>NaN</td>\n",
              "    </tr>\n",
              "  </tbody>\n",
              "</table>\n",
              "<p>251 rows × 14 columns</p>\n",
              "</div>\n",
              "      <button class=\"colab-df-convert\" onclick=\"convertToInteractive('df-62784bfc-e83c-40e0-b451-b487b51bcc44')\"\n",
              "              title=\"Convert this dataframe to an interactive table.\"\n",
              "              style=\"display:none;\">\n",
              "        \n",
              "  <svg xmlns=\"http://www.w3.org/2000/svg\" height=\"24px\"viewBox=\"0 0 24 24\"\n",
              "       width=\"24px\">\n",
              "    <path d=\"M0 0h24v24H0V0z\" fill=\"none\"/>\n",
              "    <path d=\"M18.56 5.44l.94 2.06.94-2.06 2.06-.94-2.06-.94-.94-2.06-.94 2.06-2.06.94zm-11 1L8.5 8.5l.94-2.06 2.06-.94-2.06-.94L8.5 2.5l-.94 2.06-2.06.94zm10 10l.94 2.06.94-2.06 2.06-.94-2.06-.94-.94-2.06-.94 2.06-2.06.94z\"/><path d=\"M17.41 7.96l-1.37-1.37c-.4-.4-.92-.59-1.43-.59-.52 0-1.04.2-1.43.59L10.3 9.45l-7.72 7.72c-.78.78-.78 2.05 0 2.83L4 21.41c.39.39.9.59 1.41.59.51 0 1.02-.2 1.41-.59l7.78-7.78 2.81-2.81c.8-.78.8-2.07 0-2.86zM5.41 20L4 18.59l7.72-7.72 1.47 1.35L5.41 20z\"/>\n",
              "  </svg>\n",
              "      </button>\n",
              "      \n",
              "  <style>\n",
              "    .colab-df-container {\n",
              "      display:flex;\n",
              "      flex-wrap:wrap;\n",
              "      gap: 12px;\n",
              "    }\n",
              "\n",
              "    .colab-df-convert {\n",
              "      background-color: #E8F0FE;\n",
              "      border: none;\n",
              "      border-radius: 50%;\n",
              "      cursor: pointer;\n",
              "      display: none;\n",
              "      fill: #1967D2;\n",
              "      height: 32px;\n",
              "      padding: 0 0 0 0;\n",
              "      width: 32px;\n",
              "    }\n",
              "\n",
              "    .colab-df-convert:hover {\n",
              "      background-color: #E2EBFA;\n",
              "      box-shadow: 0px 1px 2px rgba(60, 64, 67, 0.3), 0px 1px 3px 1px rgba(60, 64, 67, 0.15);\n",
              "      fill: #174EA6;\n",
              "    }\n",
              "\n",
              "    [theme=dark] .colab-df-convert {\n",
              "      background-color: #3B4455;\n",
              "      fill: #D2E3FC;\n",
              "    }\n",
              "\n",
              "    [theme=dark] .colab-df-convert:hover {\n",
              "      background-color: #434B5C;\n",
              "      box-shadow: 0px 1px 3px 1px rgba(0, 0, 0, 0.15);\n",
              "      filter: drop-shadow(0px 1px 2px rgba(0, 0, 0, 0.3));\n",
              "      fill: #FFFFFF;\n",
              "    }\n",
              "  </style>\n",
              "\n",
              "      <script>\n",
              "        const buttonEl =\n",
              "          document.querySelector('#df-62784bfc-e83c-40e0-b451-b487b51bcc44 button.colab-df-convert');\n",
              "        buttonEl.style.display =\n",
              "          google.colab.kernel.accessAllowed ? 'block' : 'none';\n",
              "\n",
              "        async function convertToInteractive(key) {\n",
              "          const element = document.querySelector('#df-62784bfc-e83c-40e0-b451-b487b51bcc44');\n",
              "          const dataTable =\n",
              "            await google.colab.kernel.invokeFunction('convertToInteractive',\n",
              "                                                     [key], {});\n",
              "          if (!dataTable) return;\n",
              "\n",
              "          const docLinkHtml = 'Like what you see? Visit the ' +\n",
              "            '<a target=\"_blank\" href=https://colab.research.google.com/notebooks/data_table.ipynb>data table notebook</a>'\n",
              "            + ' to learn more about interactive tables.';\n",
              "          element.innerHTML = '';\n",
              "          dataTable['output_type'] = 'display_data';\n",
              "          await google.colab.output.renderOutput(dataTable, element);\n",
              "          const docLink = document.createElement('div');\n",
              "          docLink.innerHTML = docLinkHtml;\n",
              "          element.appendChild(docLink);\n",
              "        }\n",
              "      </script>\n",
              "    </div>\n",
              "  </div>\n",
              "  "
            ]
          },
          "metadata": {},
          "execution_count": 26
        }
      ],
      "source": [
        "w"
      ]
    },
    {
      "cell_type": "code",
      "execution_count": 27,
      "id": "244a36b3",
      "metadata": {
        "id": "244a36b3"
      },
      "outputs": [],
      "source": [
        "w.fillna(method='ffill',inplace=True)"
      ]
    },
    {
      "cell_type": "code",
      "execution_count": 28,
      "id": "3dcd9c00",
      "metadata": {
        "id": "3dcd9c00"
      },
      "outputs": [],
      "source": [
        "w.drop([6,7,8,9],axis=1,inplace=True)"
      ]
    },
    {
      "cell_type": "code",
      "execution_count": 29,
      "id": "23df0bfe",
      "metadata": {
        "colab": {
          "base_uri": "https://localhost:8080/",
          "height": 424
        },
        "id": "23df0bfe",
        "outputId": "ba17e1ec-3715-4493-8444-ebda58e3d2e2"
      },
      "outputs": [
        {
          "output_type": "execute_result",
          "data": {
            "text/plain": [
              "        0       1         2         3       4       5         10      11  \\\n",
              "0    0.000  0.1250  0.055556  0.142857  0.1250  0.1250  0.142857  0.1250   \n",
              "1    0.004  0.1250  0.055556  0.142857  0.1250  0.1250  0.142857  0.3125   \n",
              "2    0.008  0.1250  0.222222  0.142857  0.3125  0.3125  0.285714  0.2500   \n",
              "3    0.012  0.3125  0.222222  0.285714  0.2500  0.2500  0.214286  0.2500   \n",
              "4    0.016  0.2500  0.166667  0.214286  0.2500  0.2500  0.214286  0.1875   \n",
              "..     ...     ...       ...       ...     ...     ...       ...     ...   \n",
              "246  0.984  0.3125  0.277778  0.357143  0.3125  0.3125  0.285714  0.2500   \n",
              "247  0.988  0.3750  0.333333  0.285714  0.2500  0.2500  0.285714  0.2500   \n",
              "248  0.992  0.2500  0.166667  0.285714  0.2500  0.2500  0.285714  0.2500   \n",
              "249  0.996  0.2500  0.166667  0.285714  0.2500  0.2500  0.214286  0.2500   \n",
              "250  1.000  0.2500  0.166667  0.214286  0.2500  0.2500  0.214286  0.2500   \n",
              "\n",
              "         12        13  \n",
              "0    0.1250  0.125071  \n",
              "1    0.3125  0.182753  \n",
              "2    0.2500  0.256996  \n",
              "3    0.2500  0.261565  \n",
              "4    0.1875  0.140777  \n",
              "..      ...       ...  \n",
              "246  0.2500  0.144203  \n",
              "247  0.2500  0.070817  \n",
              "248  0.2500  0.000286  \n",
              "249  0.2500  0.102227  \n",
              "250  0.2500  0.102227  \n",
              "\n",
              "[251 rows x 10 columns]"
            ],
            "text/html": [
              "\n",
              "  <div id=\"df-56e187b5-0c83-49f4-9727-ac9d92a7454f\">\n",
              "    <div class=\"colab-df-container\">\n",
              "      <div>\n",
              "<style scoped>\n",
              "    .dataframe tbody tr th:only-of-type {\n",
              "        vertical-align: middle;\n",
              "    }\n",
              "\n",
              "    .dataframe tbody tr th {\n",
              "        vertical-align: top;\n",
              "    }\n",
              "\n",
              "    .dataframe thead th {\n",
              "        text-align: right;\n",
              "    }\n",
              "</style>\n",
              "<table border=\"1\" class=\"dataframe\">\n",
              "  <thead>\n",
              "    <tr style=\"text-align: right;\">\n",
              "      <th></th>\n",
              "      <th>0</th>\n",
              "      <th>1</th>\n",
              "      <th>2</th>\n",
              "      <th>3</th>\n",
              "      <th>4</th>\n",
              "      <th>5</th>\n",
              "      <th>10</th>\n",
              "      <th>11</th>\n",
              "      <th>12</th>\n",
              "      <th>13</th>\n",
              "    </tr>\n",
              "  </thead>\n",
              "  <tbody>\n",
              "    <tr>\n",
              "      <th>0</th>\n",
              "      <td>0.000</td>\n",
              "      <td>0.1250</td>\n",
              "      <td>0.055556</td>\n",
              "      <td>0.142857</td>\n",
              "      <td>0.1250</td>\n",
              "      <td>0.1250</td>\n",
              "      <td>0.142857</td>\n",
              "      <td>0.1250</td>\n",
              "      <td>0.1250</td>\n",
              "      <td>0.125071</td>\n",
              "    </tr>\n",
              "    <tr>\n",
              "      <th>1</th>\n",
              "      <td>0.004</td>\n",
              "      <td>0.1250</td>\n",
              "      <td>0.055556</td>\n",
              "      <td>0.142857</td>\n",
              "      <td>0.1250</td>\n",
              "      <td>0.1250</td>\n",
              "      <td>0.142857</td>\n",
              "      <td>0.3125</td>\n",
              "      <td>0.3125</td>\n",
              "      <td>0.182753</td>\n",
              "    </tr>\n",
              "    <tr>\n",
              "      <th>2</th>\n",
              "      <td>0.008</td>\n",
              "      <td>0.1250</td>\n",
              "      <td>0.222222</td>\n",
              "      <td>0.142857</td>\n",
              "      <td>0.3125</td>\n",
              "      <td>0.3125</td>\n",
              "      <td>0.285714</td>\n",
              "      <td>0.2500</td>\n",
              "      <td>0.2500</td>\n",
              "      <td>0.256996</td>\n",
              "    </tr>\n",
              "    <tr>\n",
              "      <th>3</th>\n",
              "      <td>0.012</td>\n",
              "      <td>0.3125</td>\n",
              "      <td>0.222222</td>\n",
              "      <td>0.285714</td>\n",
              "      <td>0.2500</td>\n",
              "      <td>0.2500</td>\n",
              "      <td>0.214286</td>\n",
              "      <td>0.2500</td>\n",
              "      <td>0.2500</td>\n",
              "      <td>0.261565</td>\n",
              "    </tr>\n",
              "    <tr>\n",
              "      <th>4</th>\n",
              "      <td>0.016</td>\n",
              "      <td>0.2500</td>\n",
              "      <td>0.166667</td>\n",
              "      <td>0.214286</td>\n",
              "      <td>0.2500</td>\n",
              "      <td>0.2500</td>\n",
              "      <td>0.214286</td>\n",
              "      <td>0.1875</td>\n",
              "      <td>0.1875</td>\n",
              "      <td>0.140777</td>\n",
              "    </tr>\n",
              "    <tr>\n",
              "      <th>...</th>\n",
              "      <td>...</td>\n",
              "      <td>...</td>\n",
              "      <td>...</td>\n",
              "      <td>...</td>\n",
              "      <td>...</td>\n",
              "      <td>...</td>\n",
              "      <td>...</td>\n",
              "      <td>...</td>\n",
              "      <td>...</td>\n",
              "      <td>...</td>\n",
              "    </tr>\n",
              "    <tr>\n",
              "      <th>246</th>\n",
              "      <td>0.984</td>\n",
              "      <td>0.3125</td>\n",
              "      <td>0.277778</td>\n",
              "      <td>0.357143</td>\n",
              "      <td>0.3125</td>\n",
              "      <td>0.3125</td>\n",
              "      <td>0.285714</td>\n",
              "      <td>0.2500</td>\n",
              "      <td>0.2500</td>\n",
              "      <td>0.144203</td>\n",
              "    </tr>\n",
              "    <tr>\n",
              "      <th>247</th>\n",
              "      <td>0.988</td>\n",
              "      <td>0.3750</td>\n",
              "      <td>0.333333</td>\n",
              "      <td>0.285714</td>\n",
              "      <td>0.2500</td>\n",
              "      <td>0.2500</td>\n",
              "      <td>0.285714</td>\n",
              "      <td>0.2500</td>\n",
              "      <td>0.2500</td>\n",
              "      <td>0.070817</td>\n",
              "    </tr>\n",
              "    <tr>\n",
              "      <th>248</th>\n",
              "      <td>0.992</td>\n",
              "      <td>0.2500</td>\n",
              "      <td>0.166667</td>\n",
              "      <td>0.285714</td>\n",
              "      <td>0.2500</td>\n",
              "      <td>0.2500</td>\n",
              "      <td>0.285714</td>\n",
              "      <td>0.2500</td>\n",
              "      <td>0.2500</td>\n",
              "      <td>0.000286</td>\n",
              "    </tr>\n",
              "    <tr>\n",
              "      <th>249</th>\n",
              "      <td>0.996</td>\n",
              "      <td>0.2500</td>\n",
              "      <td>0.166667</td>\n",
              "      <td>0.285714</td>\n",
              "      <td>0.2500</td>\n",
              "      <td>0.2500</td>\n",
              "      <td>0.214286</td>\n",
              "      <td>0.2500</td>\n",
              "      <td>0.2500</td>\n",
              "      <td>0.102227</td>\n",
              "    </tr>\n",
              "    <tr>\n",
              "      <th>250</th>\n",
              "      <td>1.000</td>\n",
              "      <td>0.2500</td>\n",
              "      <td>0.166667</td>\n",
              "      <td>0.214286</td>\n",
              "      <td>0.2500</td>\n",
              "      <td>0.2500</td>\n",
              "      <td>0.214286</td>\n",
              "      <td>0.2500</td>\n",
              "      <td>0.2500</td>\n",
              "      <td>0.102227</td>\n",
              "    </tr>\n",
              "  </tbody>\n",
              "</table>\n",
              "<p>251 rows × 10 columns</p>\n",
              "</div>\n",
              "      <button class=\"colab-df-convert\" onclick=\"convertToInteractive('df-56e187b5-0c83-49f4-9727-ac9d92a7454f')\"\n",
              "              title=\"Convert this dataframe to an interactive table.\"\n",
              "              style=\"display:none;\">\n",
              "        \n",
              "  <svg xmlns=\"http://www.w3.org/2000/svg\" height=\"24px\"viewBox=\"0 0 24 24\"\n",
              "       width=\"24px\">\n",
              "    <path d=\"M0 0h24v24H0V0z\" fill=\"none\"/>\n",
              "    <path d=\"M18.56 5.44l.94 2.06.94-2.06 2.06-.94-2.06-.94-.94-2.06-.94 2.06-2.06.94zm-11 1L8.5 8.5l.94-2.06 2.06-.94-2.06-.94L8.5 2.5l-.94 2.06-2.06.94zm10 10l.94 2.06.94-2.06 2.06-.94-2.06-.94-.94-2.06-.94 2.06-2.06.94z\"/><path d=\"M17.41 7.96l-1.37-1.37c-.4-.4-.92-.59-1.43-.59-.52 0-1.04.2-1.43.59L10.3 9.45l-7.72 7.72c-.78.78-.78 2.05 0 2.83L4 21.41c.39.39.9.59 1.41.59.51 0 1.02-.2 1.41-.59l7.78-7.78 2.81-2.81c.8-.78.8-2.07 0-2.86zM5.41 20L4 18.59l7.72-7.72 1.47 1.35L5.41 20z\"/>\n",
              "  </svg>\n",
              "      </button>\n",
              "      \n",
              "  <style>\n",
              "    .colab-df-container {\n",
              "      display:flex;\n",
              "      flex-wrap:wrap;\n",
              "      gap: 12px;\n",
              "    }\n",
              "\n",
              "    .colab-df-convert {\n",
              "      background-color: #E8F0FE;\n",
              "      border: none;\n",
              "      border-radius: 50%;\n",
              "      cursor: pointer;\n",
              "      display: none;\n",
              "      fill: #1967D2;\n",
              "      height: 32px;\n",
              "      padding: 0 0 0 0;\n",
              "      width: 32px;\n",
              "    }\n",
              "\n",
              "    .colab-df-convert:hover {\n",
              "      background-color: #E2EBFA;\n",
              "      box-shadow: 0px 1px 2px rgba(60, 64, 67, 0.3), 0px 1px 3px 1px rgba(60, 64, 67, 0.15);\n",
              "      fill: #174EA6;\n",
              "    }\n",
              "\n",
              "    [theme=dark] .colab-df-convert {\n",
              "      background-color: #3B4455;\n",
              "      fill: #D2E3FC;\n",
              "    }\n",
              "\n",
              "    [theme=dark] .colab-df-convert:hover {\n",
              "      background-color: #434B5C;\n",
              "      box-shadow: 0px 1px 3px 1px rgba(0, 0, 0, 0.15);\n",
              "      filter: drop-shadow(0px 1px 2px rgba(0, 0, 0, 0.3));\n",
              "      fill: #FFFFFF;\n",
              "    }\n",
              "  </style>\n",
              "\n",
              "      <script>\n",
              "        const buttonEl =\n",
              "          document.querySelector('#df-56e187b5-0c83-49f4-9727-ac9d92a7454f button.colab-df-convert');\n",
              "        buttonEl.style.display =\n",
              "          google.colab.kernel.accessAllowed ? 'block' : 'none';\n",
              "\n",
              "        async function convertToInteractive(key) {\n",
              "          const element = document.querySelector('#df-56e187b5-0c83-49f4-9727-ac9d92a7454f');\n",
              "          const dataTable =\n",
              "            await google.colab.kernel.invokeFunction('convertToInteractive',\n",
              "                                                     [key], {});\n",
              "          if (!dataTable) return;\n",
              "\n",
              "          const docLinkHtml = 'Like what you see? Visit the ' +\n",
              "            '<a target=\"_blank\" href=https://colab.research.google.com/notebooks/data_table.ipynb>data table notebook</a>'\n",
              "            + ' to learn more about interactive tables.';\n",
              "          element.innerHTML = '';\n",
              "          dataTable['output_type'] = 'display_data';\n",
              "          await google.colab.output.renderOutput(dataTable, element);\n",
              "          const docLink = document.createElement('div');\n",
              "          docLink.innerHTML = docLinkHtml;\n",
              "          element.appendChild(docLink);\n",
              "        }\n",
              "      </script>\n",
              "    </div>\n",
              "  </div>\n",
              "  "
            ]
          },
          "metadata": {},
          "execution_count": 29
        }
      ],
      "source": [
        "w"
      ]
    },
    {
      "cell_type": "code",
      "execution_count": 30,
      "id": "ea914d0d",
      "metadata": {
        "colab": {
          "base_uri": "https://localhost:8080/"
        },
        "id": "ea914d0d",
        "outputId": "cb79904f-ce41-453a-c692-b420ae309480"
      },
      "outputs": [
        {
          "output_type": "stream",
          "name": "stdout",
          "text": [
            "<class 'pandas.core.frame.DataFrame'>\n",
            "RangeIndex: 251 entries, 0 to 250\n",
            "Data columns (total 10 columns):\n",
            " #   Column  Non-Null Count  Dtype  \n",
            "---  ------  --------------  -----  \n",
            " 0   0       251 non-null    float64\n",
            " 1   1       251 non-null    float64\n",
            " 2   2       251 non-null    float64\n",
            " 3   3       251 non-null    float64\n",
            " 4   4       251 non-null    float64\n",
            " 5   5       251 non-null    float64\n",
            " 6   10      251 non-null    float64\n",
            " 7   11      251 non-null    float64\n",
            " 8   12      251 non-null    float64\n",
            " 9   13      251 non-null    float64\n",
            "dtypes: float64(10)\n",
            "memory usage: 19.7 KB\n"
          ]
        }
      ],
      "source": [
        "w.info()"
      ]
    },
    {
      "cell_type": "code",
      "execution_count": 31,
      "id": "b48b625a",
      "metadata": {
        "id": "b48b625a"
      },
      "outputs": [],
      "source": [
        "www=w.values\n",
        "xtrain,xtest,ytrain,ytest=www[:3759,0:5],www[3759:,0:5],www[:3759,-1],www[3759:,-1]\n",
        "xtes=xtest"
      ]
    },
    {
      "cell_type": "code",
      "execution_count": 32,
      "id": "de869273",
      "metadata": {
        "colab": {
          "base_uri": "https://localhost:8080/"
        },
        "id": "de869273",
        "outputId": "3b4e795a-6a59-4771-a23a-69b645768238"
      },
      "outputs": [
        {
          "output_type": "execute_result",
          "data": {
            "text/plain": [
              "array([], shape=(0, 5), dtype=float64)"
            ]
          },
          "metadata": {},
          "execution_count": 32
        }
      ],
      "source": [
        "xtes"
      ]
    },
    {
      "cell_type": "code",
      "execution_count": 33,
      "id": "71d09e55",
      "metadata": {
        "id": "71d09e55"
      },
      "outputs": [],
      "source": [
        "xtrain = xtrain.reshape(xtrain.shape[0], xtrain.shape[1], 1)\n",
        "xtest = xtest.reshape(xtest.shape[0], xtest.shape[1], 1)"
      ]
    },
    {
      "cell_type": "code",
      "execution_count": 34,
      "id": "97aeeb34",
      "metadata": {
        "id": "97aeeb34"
      },
      "outputs": [],
      "source": [
        "from tensorflow.keras.models import Sequential\n",
        "from tensorflow.keras.layers import Dense\n",
        "from tensorflow.keras.layers import LSTM,Dropout,SpatialDropout1D\n",
        "from keras.layers import Bidirectional"
      ]
    },
    {
      "cell_type": "code",
      "execution_count": 35,
      "id": "7742fdf6",
      "metadata": {
        "id": "7742fdf6"
      },
      "outputs": [],
      "source": [
        "model=Sequential()\n",
        "model.add(Bidirectional(LSTM(100,activation=\"relu\",input_shape=(xtrain.shape[1],xtrain.shape[2]))))\n",
        "model.add(Dense(1))\n",
        "model.compile(optimizer='adam', loss='mse')"
      ]
    },
    {
      "cell_type": "code",
      "execution_count": 36,
      "id": "b09129be",
      "metadata": {
        "colab": {
          "base_uri": "https://localhost:8080/"
        },
        "id": "b09129be",
        "outputId": "616be826-3a3f-494c-ace3-4143538412c8"
      },
      "outputs": [
        {
          "output_type": "stream",
          "name": "stdout",
          "text": [
            "Epoch 1/50\n",
            "8/8 - 3s - loss: 0.0344 - 3s/epoch - 373ms/step\n",
            "Epoch 2/50\n",
            "8/8 - 0s - loss: 0.0326 - 94ms/epoch - 12ms/step\n",
            "Epoch 3/50\n",
            "8/8 - 0s - loss: 0.0315 - 82ms/epoch - 10ms/step\n",
            "Epoch 4/50\n",
            "8/8 - 0s - loss: 0.0308 - 82ms/epoch - 10ms/step\n",
            "Epoch 5/50\n",
            "8/8 - 0s - loss: 0.0306 - 84ms/epoch - 11ms/step\n",
            "Epoch 6/50\n",
            "8/8 - 0s - loss: 0.0307 - 84ms/epoch - 10ms/step\n",
            "Epoch 7/50\n",
            "8/8 - 0s - loss: 0.0306 - 97ms/epoch - 12ms/step\n",
            "Epoch 8/50\n",
            "8/8 - 0s - loss: 0.0307 - 83ms/epoch - 10ms/step\n",
            "Epoch 9/50\n",
            "8/8 - 0s - loss: 0.0306 - 75ms/epoch - 9ms/step\n",
            "Epoch 10/50\n",
            "8/8 - 0s - loss: 0.0305 - 78ms/epoch - 10ms/step\n",
            "Epoch 11/50\n",
            "8/8 - 0s - loss: 0.0305 - 79ms/epoch - 10ms/step\n",
            "Epoch 12/50\n",
            "8/8 - 0s - loss: 0.0305 - 75ms/epoch - 9ms/step\n",
            "Epoch 13/50\n",
            "8/8 - 0s - loss: 0.0306 - 83ms/epoch - 10ms/step\n",
            "Epoch 14/50\n",
            "8/8 - 0s - loss: 0.0305 - 81ms/epoch - 10ms/step\n",
            "Epoch 15/50\n",
            "8/8 - 0s - loss: 0.0305 - 80ms/epoch - 10ms/step\n",
            "Epoch 16/50\n",
            "8/8 - 0s - loss: 0.0306 - 95ms/epoch - 12ms/step\n",
            "Epoch 17/50\n",
            "8/8 - 0s - loss: 0.0305 - 82ms/epoch - 10ms/step\n",
            "Epoch 18/50\n",
            "8/8 - 0s - loss: 0.0313 - 85ms/epoch - 11ms/step\n",
            "Epoch 19/50\n",
            "8/8 - 0s - loss: 0.0305 - 93ms/epoch - 12ms/step\n",
            "Epoch 20/50\n",
            "8/8 - 0s - loss: 0.0306 - 81ms/epoch - 10ms/step\n",
            "Epoch 21/50\n",
            "8/8 - 0s - loss: 0.0305 - 81ms/epoch - 10ms/step\n",
            "Epoch 22/50\n",
            "8/8 - 0s - loss: 0.0304 - 95ms/epoch - 12ms/step\n",
            "Epoch 23/50\n",
            "8/8 - 0s - loss: 0.0304 - 84ms/epoch - 11ms/step\n",
            "Epoch 24/50\n",
            "8/8 - 0s - loss: 0.0304 - 85ms/epoch - 11ms/step\n",
            "Epoch 25/50\n",
            "8/8 - 0s - loss: 0.0304 - 102ms/epoch - 13ms/step\n",
            "Epoch 26/50\n",
            "8/8 - 0s - loss: 0.0304 - 94ms/epoch - 12ms/step\n",
            "Epoch 27/50\n",
            "8/8 - 0s - loss: 0.0306 - 94ms/epoch - 12ms/step\n",
            "Epoch 28/50\n",
            "8/8 - 0s - loss: 0.0308 - 97ms/epoch - 12ms/step\n",
            "Epoch 29/50\n",
            "8/8 - 0s - loss: 0.0306 - 90ms/epoch - 11ms/step\n",
            "Epoch 30/50\n",
            "8/8 - 0s - loss: 0.0304 - 96ms/epoch - 12ms/step\n",
            "Epoch 31/50\n",
            "8/8 - 0s - loss: 0.0303 - 86ms/epoch - 11ms/step\n",
            "Epoch 32/50\n",
            "8/8 - 0s - loss: 0.0305 - 83ms/epoch - 10ms/step\n",
            "Epoch 33/50\n",
            "8/8 - 0s - loss: 0.0304 - 85ms/epoch - 11ms/step\n",
            "Epoch 34/50\n",
            "8/8 - 0s - loss: 0.0305 - 85ms/epoch - 11ms/step\n",
            "Epoch 35/50\n",
            "8/8 - 0s - loss: 0.0307 - 86ms/epoch - 11ms/step\n",
            "Epoch 36/50\n",
            "8/8 - 0s - loss: 0.0304 - 86ms/epoch - 11ms/step\n",
            "Epoch 37/50\n",
            "8/8 - 0s - loss: 0.0307 - 82ms/epoch - 10ms/step\n",
            "Epoch 38/50\n",
            "8/8 - 0s - loss: 0.0303 - 82ms/epoch - 10ms/step\n",
            "Epoch 39/50\n",
            "8/8 - 0s - loss: 0.0303 - 85ms/epoch - 11ms/step\n",
            "Epoch 40/50\n",
            "8/8 - 0s - loss: 0.0303 - 88ms/epoch - 11ms/step\n",
            "Epoch 41/50\n",
            "8/8 - 0s - loss: 0.0302 - 111ms/epoch - 14ms/step\n",
            "Epoch 42/50\n",
            "8/8 - 0s - loss: 0.0304 - 87ms/epoch - 11ms/step\n",
            "Epoch 43/50\n",
            "8/8 - 0s - loss: 0.0303 - 85ms/epoch - 11ms/step\n",
            "Epoch 44/50\n",
            "8/8 - 0s - loss: 0.0303 - 86ms/epoch - 11ms/step\n",
            "Epoch 45/50\n",
            "8/8 - 0s - loss: 0.0303 - 87ms/epoch - 11ms/step\n",
            "Epoch 46/50\n",
            "8/8 - 0s - loss: 0.0303 - 83ms/epoch - 10ms/step\n",
            "Epoch 47/50\n",
            "8/8 - 0s - loss: 0.0303 - 84ms/epoch - 11ms/step\n",
            "Epoch 48/50\n",
            "8/8 - 0s - loss: 0.0303 - 98ms/epoch - 12ms/step\n",
            "Epoch 49/50\n",
            "8/8 - 0s - loss: 0.0303 - 87ms/epoch - 11ms/step\n",
            "Epoch 50/50\n",
            "8/8 - 0s - loss: 0.0303 - 88ms/epoch - 11ms/step\n"
          ]
        },
        {
          "output_type": "execute_result",
          "data": {
            "text/plain": [
              "<keras.callbacks.History at 0x7f6be56e6ad0>"
            ]
          },
          "metadata": {},
          "execution_count": 36
        }
      ],
      "source": [
        "model.fit(xtrain,ytrain,validation_data=(xtest,ytest),epochs=50,batch_size=32,verbose=2)"
      ]
    },
    {
      "cell_type": "code",
      "execution_count": 36,
      "id": "ed521856",
      "metadata": {
        "id": "ed521856"
      },
      "outputs": [],
      "source": [
        ""
      ]
    },
    {
      "cell_type": "code",
      "execution_count": 36,
      "id": "e477eed1",
      "metadata": {
        "id": "e477eed1"
      },
      "outputs": [],
      "source": [
        ""
      ]
    },
    {
      "cell_type": "code",
      "execution_count": 36,
      "id": "be22624c",
      "metadata": {
        "id": "be22624c"
      },
      "outputs": [],
      "source": [
        ""
      ]
    }
  ],
  "metadata": {
    "kernelspec": {
      "display_name": "Python 3 (ipykernel)",
      "language": "python",
      "name": "python3"
    },
    "language_info": {
      "codemirror_mode": {
        "name": "ipython",
        "version": 3
      },
      "file_extension": ".py",
      "mimetype": "text/x-python",
      "name": "python",
      "nbconvert_exporter": "python",
      "pygments_lexer": "ipython3",
      "version": "3.9.7"
    },
    "colab": {
      "name": "Datacket Internship Task 5.ipynb",
      "provenance": []
    }
  },
  "nbformat": 4,
  "nbformat_minor": 5
}